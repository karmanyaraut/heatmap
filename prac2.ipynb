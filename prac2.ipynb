{
 "cells": [
  {
   "cell_type": "code",
   "execution_count": 28,
   "metadata": {},
   "outputs": [
    {
     "data": {
      "text/html": [
       "<script>requirejs.config({paths: { 'plotly': ['https://cdn.plot.ly/plotly-latest.min']},});if(!window.Plotly) {{require(['plotly'],function(plotly) {window.Plotly=plotly;});}}</script>"
      ],
      "text/vnd.plotly.v1+html": [
       "<script>requirejs.config({paths: { 'plotly': ['https://cdn.plot.ly/plotly-latest.min']},});if(!window.Plotly) {{require(['plotly'],function(plotly) {window.Plotly=plotly;});}}</script>"
      ]
     },
     "metadata": {},
     "output_type": "display_data"
    },
    {
     "data": {
      "application/vnd.plotly.v1+json": {
       "data": [
        {
         "colorscale": "Viridis",
         "type": "heatmap",
         "uid": "42561cd0-d2ea-11e8-9efb-183da2e999a8",
         "x": [
          "--------",
          "Temperature",
          "DewPoint",
          "Humidity"
         ],
         "y": [
          "01-01-2016",
          "01-02-2016",
          "01-03-2016",
          "01-04-2016",
          "01-05-2016",
          "01-06-2016",
          "01-07-2016",
          "01-08-2016",
          "01-09-2016",
          "01-10-2016"
         ],
         "z": [
          [
           "01-01-2016",
           38,
           23,
           52
          ],
          [
           "01-02-2016",
           39,
           18,
           46
          ],
          [
           "01-03-2016",
           40,
           21,
           47
          ],
          [
           "01-04-2016",
           30,
           9,
           44
          ],
          [
           "01-05-2016",
           20,
           -3,
           41
          ],
          [
           "01-06-2016",
           33,
           4,
           35
          ],
          [
           "01-07-2016",
           39,
           11,
           33
          ],
          [
           "01-08-2016",
           39,
           29,
           64
          ],
          [
           "01-09-2016",
           44.5,
           38,
           77
          ],
          [
           "01-10-2016",
           50,
           46,
           71
          ]
         ]
        }
       ],
       "layout": {}
      },
      "text/html": [
       "<div id=\"e8c888c3-07d0-4182-b00e-054ff46a816e\" style=\"height: 525px; width: 100%;\" class=\"plotly-graph-div\"></div><script type=\"text/javascript\">require([\"plotly\"], function(Plotly) { window.PLOTLYENV=window.PLOTLYENV || {};window.PLOTLYENV.BASE_URL=\"https://plot.ly\";Plotly.newPlot(\"e8c888c3-07d0-4182-b00e-054ff46a816e\", [{\"colorscale\": \"Viridis\", \"x\": [\"--------\", \"Temperature\", \"DewPoint\", \"Humidity\"], \"y\": [\"01-01-2016\", \"01-02-2016\", \"01-03-2016\", \"01-04-2016\", \"01-05-2016\", \"01-06-2016\", \"01-07-2016\", \"01-08-2016\", \"01-09-2016\", \"01-10-2016\"], \"z\": [[\"01-01-2016\", 38.0, 23, 52], [\"01-02-2016\", 39.0, 18, 46], [\"01-03-2016\", 40.0, 21, 47], [\"01-04-2016\", 30.0, 9, 44], [\"01-05-2016\", 20.0, -3, 41], [\"01-06-2016\", 33.0, 4, 35], [\"01-07-2016\", 39.0, 11, 33], [\"01-08-2016\", 39.0, 29, 64], [\"01-09-2016\", 44.5, 38, 77], [\"01-10-2016\", 50.0, 46, 71]], \"type\": \"heatmap\", \"uid\": \"42674768-d2ea-11e8-a5c7-183da2e999a8\"}], {}, {\"showLink\": true, \"linkText\": \"Export to plot.ly\"})});</script>"
      ],
      "text/vnd.plotly.v1+html": [
       "<div id=\"e8c888c3-07d0-4182-b00e-054ff46a816e\" style=\"height: 525px; width: 100%;\" class=\"plotly-graph-div\"></div><script type=\"text/javascript\">require([\"plotly\"], function(Plotly) { window.PLOTLYENV=window.PLOTLYENV || {};window.PLOTLYENV.BASE_URL=\"https://plot.ly\";Plotly.newPlot(\"e8c888c3-07d0-4182-b00e-054ff46a816e\", [{\"colorscale\": \"Viridis\", \"x\": [\"--------\", \"Temperature\", \"DewPoint\", \"Humidity\"], \"y\": [\"01-01-2016\", \"01-02-2016\", \"01-03-2016\", \"01-04-2016\", \"01-05-2016\", \"01-06-2016\", \"01-07-2016\", \"01-08-2016\", \"01-09-2016\", \"01-10-2016\"], \"z\": [[\"01-01-2016\", 38.0, 23, 52], [\"01-02-2016\", 39.0, 18, 46], [\"01-03-2016\", 40.0, 21, 47], [\"01-04-2016\", 30.0, 9, 44], [\"01-05-2016\", 20.0, -3, 41], [\"01-06-2016\", 33.0, 4, 35], [\"01-07-2016\", 39.0, 11, 33], [\"01-08-2016\", 39.0, 29, 64], [\"01-09-2016\", 44.5, 38, 77], [\"01-10-2016\", 50.0, 46, 71]], \"type\": \"heatmap\", \"uid\": \"42674768-d2ea-11e8-a5c7-183da2e999a8\"}], {}, {\"showLink\": true, \"linkText\": \"Export to plot.ly\"})});</script>"
      ]
     },
     "metadata": {},
     "output_type": "display_data"
    }
   ],
   "source": [
    "import plotly as py\n",
    "\n",
    "import pandas as pd\n",
    "\n",
    "import plotly.graph_objs as go\n",
    "from plotly.offline import init_notebook_mode, iplot\n",
    "init_notebook_mode(connected=True)\n",
    "df= pd.read_csv('D:\\dataset\\weather.csv')\n",
    "df1=df[['EST','Temperature','DewPoint','Humidity']].head(10)\n",
    "df2=df1.interpolate()\n",
    "df2\n",
    "ff=['--------','Temperature','DewPoint','Humidity']\n",
    "data = [go.Heatmap( z=df2.values.tolist(),x=ff ,y=df2['EST'], colorscale='Viridis')]\n",
    "py.offline.iplot(data)\n"
   ]
  },
  {
   "cell_type": "code",
   "execution_count": null,
   "metadata": {},
   "outputs": [],
   "source": []
  },
  {
   "cell_type": "code",
   "execution_count": null,
   "metadata": {},
   "outputs": [],
   "source": []
  }
 ],
 "metadata": {
  "kernelspec": {
   "display_name": "Python 3",
   "language": "python",
   "name": "python3"
  },
  "language_info": {
   "codemirror_mode": {
    "name": "ipython",
    "version": 3
   },
   "file_extension": ".py",
   "mimetype": "text/x-python",
   "name": "python",
   "nbconvert_exporter": "python",
   "pygments_lexer": "ipython3",
   "version": "3.6.4"
  }
 },
 "nbformat": 4,
 "nbformat_minor": 2
}
